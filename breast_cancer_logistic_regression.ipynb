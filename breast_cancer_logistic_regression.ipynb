{
  "nbformat": 4,
  "nbformat_minor": 0,
  "metadata": {
    "colab": {
      "name": "breast-cancer-logistic-regression.ipynb",
      "provenance": [],
      "collapsed_sections": []
    },
    "kernelspec": {
      "name": "python3",
      "display_name": "Python 3"
    }
  },
  "cells": [
    {
      "cell_type": "code",
      "metadata": {
        "colab": {
          "base_uri": "https://localhost:8080/"
        },
        "id": "dGjVPYM6zYu-",
        "outputId": "224ce964-c7b5-44eb-d4e2-ba62c50a45c3"
      },
      "source": [
        "from google.colab import drive\n",
        "drive.mount('/content/drive')"
      ],
      "execution_count": 1,
      "outputs": [
        {
          "output_type": "stream",
          "text": [
            "Drive already mounted at /content/drive; to attempt to forcibly remount, call drive.mount(\"/content/drive\", force_remount=True).\n"
          ],
          "name": "stdout"
        }
      ]
    },
    {
      "cell_type": "markdown",
      "metadata": {
        "id": "Q8X8xDwS6vgS"
      },
      "source": [
        "# Logistic Regression"
      ]
    },
    {
      "cell_type": "markdown",
      "metadata": {
        "id": "PEGG4I6n60cM"
      },
      "source": [
        "## Importing the libraries"
      ]
    },
    {
      "cell_type": "code",
      "metadata": {
        "id": "D4b029YC7C-y"
      },
      "source": [
        "import pandas as pd"
      ],
      "execution_count": 2,
      "outputs": []
    },
    {
      "cell_type": "markdown",
      "metadata": {
        "id": "Aa536pRY7Eq5"
      },
      "source": [
        "## Importing the dataset"
      ]
    },
    {
      "cell_type": "code",
      "metadata": {
        "id": "4POXlqg47Ny3"
      },
      "source": [
        "# insert your filepath\n",
        "dataset = pd.read_csv('/breast_cancer.csv')"
      ],
      "execution_count": 3,
      "outputs": []
    },
    {
      "cell_type": "markdown",
      "metadata": {
        "id": "ZjQFo1lf3gAU"
      },
      "source": [
        "### Create two separate sets"
      ]
    },
    {
      "cell_type": "code",
      "metadata": {
        "colab": {
          "base_uri": "https://localhost:8080/"
        },
        "id": "6kI0gJPT3TSf",
        "outputId": "66637c89-d6a1-4a10-ad19-295ec8a70a97"
      },
      "source": [
        "# set of independent variables, a matrix of features\n",
        "X = dataset.iloc[:, 1:-1].values\n",
        "\n",
        "print(f'X has {X.shape[0]} rows and {X.shape[1]} columns.')\n",
        "print()\n",
        "print(X[:5])"
      ],
      "execution_count": 4,
      "outputs": [
        {
          "output_type": "stream",
          "text": [
            "X has 683 rows and 9 columns.\n",
            "\n",
            "[[ 5  1  1  1  2  1  3  1  1]\n",
            " [ 5  4  4  5  7 10  3  2  1]\n",
            " [ 3  1  1  1  2  2  3  1  1]\n",
            " [ 6  8  8  1  3  4  3  7  1]\n",
            " [ 4  1  1  3  2  1  3  1  1]]\n"
          ],
          "name": "stdout"
        }
      ]
    },
    {
      "cell_type": "code",
      "metadata": {
        "colab": {
          "base_uri": "https://localhost:8080/"
        },
        "id": "2z6u6Dv73VcP",
        "outputId": "8f142b66-e1a9-4fef-f6c6-dc0b290f0f08"
      },
      "source": [
        "# set of dependent variable, one specific column/vector\n",
        "y = dataset.iloc[:, -1].values\n",
        "\n",
        "print(f'y has {y.shape[0]} elements.')\n",
        "print(y[:5])"
      ],
      "execution_count": 5,
      "outputs": [
        {
          "output_type": "stream",
          "text": [
            "y has 683 elements.\n",
            "[2 2 2 2 2]\n"
          ],
          "name": "stdout"
        }
      ]
    },
    {
      "cell_type": "markdown",
      "metadata": {
        "id": "0AnzJQCj7TLO"
      },
      "source": [
        "## Splitting the dataset into the Training set and Test set"
      ]
    },
    {
      "cell_type": "code",
      "metadata": {
        "id": "WOQwyng57dp2",
        "colab": {
          "base_uri": "https://localhost:8080/"
        },
        "outputId": "91237e8b-60bf-465e-8e1f-2e244f882480"
      },
      "source": [
        "from sklearn.model_selection import train_test_split\n",
        "\n",
        "X_train, X_test, y_train, y_test = train_test_split(X, y, \n",
        "                                                    test_size=0.2, \n",
        "                                                    random_state=0\n",
        "                                                    )\n",
        "\n",
        "print(f'X_train has {X_train.shape[0]} rows and {X_train.shape[1]} columns.')\n",
        "print(f'X_test has {X_test.shape[0]} rows and {X_test.shape[1]} columns.')\n",
        "print()\n",
        "print(f'y_train has {y_train.shape[0]} elements.')\n",
        "print(f'y_test has {y_test.shape[0]} elements.')"
      ],
      "execution_count": 6,
      "outputs": [
        {
          "output_type": "stream",
          "text": [
            "X_train has 546 rows and 9 columns.\n",
            "X_test has 137 rows and 9 columns.\n",
            "\n",
            "y_train has 546 elements.\n",
            "y_test has 137 elements.\n"
          ],
          "name": "stdout"
        }
      ]
    },
    {
      "cell_type": "markdown",
      "metadata": {
        "id": "pS1Q-n_A7iZ_"
      },
      "source": [
        "## Training the Logistic Regression model on the Training set"
      ]
    },
    {
      "cell_type": "code",
      "metadata": {
        "id": "9V-LgiUa78lX",
        "colab": {
          "base_uri": "https://localhost:8080/"
        },
        "outputId": "5c20274a-dc78-47a0-9ba5-d266ff55dfae"
      },
      "source": [
        "from sklearn.linear_model import LogisticRegression\n",
        "\n",
        "classifier = LogisticRegression(random_state = 0)\n",
        "classifier.fit(X_train, y_train)"
      ],
      "execution_count": 7,
      "outputs": [
        {
          "output_type": "execute_result",
          "data": {
            "text/plain": [
              "LogisticRegression(C=1.0, class_weight=None, dual=False, fit_intercept=True,\n",
              "                   intercept_scaling=1, l1_ratio=None, max_iter=100,\n",
              "                   multi_class='auto', n_jobs=None, penalty='l2',\n",
              "                   random_state=0, solver='lbfgs', tol=0.0001, verbose=0,\n",
              "                   warm_start=False)"
            ]
          },
          "metadata": {
            "tags": []
          },
          "execution_count": 7
        }
      ]
    },
    {
      "cell_type": "markdown",
      "metadata": {
        "id": "4cgD7EnB8Dnd"
      },
      "source": [
        "## Predicting the Test set results"
      ]
    },
    {
      "cell_type": "code",
      "metadata": {
        "id": "1B4zQvOq8M7H",
        "colab": {
          "base_uri": "https://localhost:8080/"
        },
        "outputId": "b315ad6b-deaa-4192-b18a-d06e6d98f502"
      },
      "source": [
        "y_pred = classifier.predict(X_test)\n",
        "print(f'y_pred has {y_pred.shape[0]} elements.')\n",
        "print(y_pred[:5])"
      ],
      "execution_count": 8,
      "outputs": [
        {
          "output_type": "stream",
          "text": [
            "y_pred has 137 elements.\n",
            "[2 2 4 4 2]\n"
          ],
          "name": "stdout"
        }
      ]
    },
    {
      "cell_type": "markdown",
      "metadata": {
        "id": "26CHkZbs8Tu5"
      },
      "source": [
        "## Making the Confusion Matrix"
      ]
    },
    {
      "cell_type": "code",
      "metadata": {
        "id": "5BN8qx6e8aNZ",
        "colab": {
          "base_uri": "https://localhost:8080/"
        },
        "outputId": "23f5d047-a1cc-4012-ba1b-6017dc4b3f5c"
      },
      "source": [
        "from sklearn.metrics import confusion_matrix\n",
        "\n",
        "# y_test: vector of real results (ground truth)\n",
        "# y_pred: vector of prediction\n",
        "\n",
        "cm = confusion_matrix(y_test, y_pred)\n",
        "print(cm)"
      ],
      "execution_count": 9,
      "outputs": [
        {
          "output_type": "stream",
          "text": [
            "[[84  3]\n",
            " [ 3 47]]\n"
          ],
          "name": "stdout"
        }
      ]
    },
    {
      "cell_type": "markdown",
      "metadata": {
        "id": "SG8Egw1k_Od6"
      },
      "source": [
        "- 84 correct predictions that a tumor is benign.\n",
        "- 3 incorrect predictions that a tumor is benign, false positive.\n",
        "\n",
        "---\n",
        "- 3 incorrect predictions that a tumor is malignant, false negative.\n",
        "- 47 correct predictions that a tumor is malignant.\n"
      ]
    },
    {
      "cell_type": "markdown",
      "metadata": {
        "id": "kMErnLnu8hmb"
      },
      "source": [
        "## Computing the accuracy with k-Fold Cross Validation"
      ]
    },
    {
      "cell_type": "code",
      "metadata": {
        "id": "waJZi8fw8m_2",
        "colab": {
          "base_uri": "https://localhost:8080/"
        },
        "outputId": "d0a4e723-bac1-4865-f0f3-30cebbf5f897"
      },
      "source": [
        "from sklearn.model_selection import cross_val_score\n",
        "\n",
        "accuracies = cross_val_score(estimator=classifier, \n",
        "                             X=X_train, \n",
        "                             y=y_train, \n",
        "                             cv=10\n",
        "                             )\n",
        "\n",
        "print(\"Accuracy: {:.2f} %\".format(accuracies.mean()*100))\n",
        "print(\"Standard Deviation: {:.2f} %\".format(accuracies.std()*100))"
      ],
      "execution_count": 10,
      "outputs": [
        {
          "output_type": "stream",
          "text": [
            "Accuracy: 96.70 %\n",
            "Standard Deviation: 1.97 %\n"
          ],
          "name": "stdout"
        }
      ]
    },
    {
      "cell_type": "markdown",
      "metadata": {
        "id": "jokcHya0FFGE"
      },
      "source": [
        "So we can conclude that:\n",
        "- Out of a 100 observations ~ 97 will be correct\n",
        "- The 10 accuracies in our 10-fold Cross Validation fall between (96.70-1.97) and (96.70+1.97) ~ a range of 94.73 to 98.67"
      ]
    },
    {
      "cell_type": "code",
      "metadata": {
        "id": "SlLqGuuSGC21"
      },
      "source": [
        ""
      ],
      "execution_count": 10,
      "outputs": []
    }
  ]
}